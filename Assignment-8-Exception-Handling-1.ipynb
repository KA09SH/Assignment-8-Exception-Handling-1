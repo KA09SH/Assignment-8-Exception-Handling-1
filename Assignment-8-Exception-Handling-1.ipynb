{
 "cells": [
  {
   "cell_type": "code",
   "execution_count": null,
   "id": "39c3f24b",
   "metadata": {},
   "outputs": [],
   "source": [
    "#Q1. What is an Exception in python? Write the difference between Exceptions and Syntax errors.\n",
    "\n",
    "#A.  When in the runtime an error that occurs after passing the syntax test is called Exception or logical type. \n",
    "#.   For example, when we divide any number by zero then the ZeroDivisionError exception is raised,\n",
    "#.   or when we import a module that does not exist then ImportError is raised.\n",
    "\n",
    "#.  An error is an issue in a program that prevents the program from completing its task. \n",
    "#.  Whereas, an exception is a condition that interrupts the normal flow of the program. \n",
    "#.  Both errors and exceptions are a type of runtime error, which means they occur during the execution of a program\n",
    "\n",
    "\n",
    "#. Example: \n",
    "\n",
    "#. marks = 10000\n",
    "  \n",
    "#. perform division with 0\n",
    "#. a = marks / 0\n",
    "#. print(a)\n"
   ]
  },
  {
   "cell_type": "code",
   "execution_count": null,
   "id": "947410bf",
   "metadata": {},
   "outputs": [],
   "source": [
    "#Q2. What happens when an exception is not handled? Explain with an example.\n",
    "\n",
    "#A. If the exception is not handled by an except clause, the exception is re-raised after the finally clause has been executed.\n",
    "\n",
    "#.  Example: \n",
    "\n",
    "''''\n",
    "import sys\n",
    "\n",
    "try:\n",
    "    f = open('myfile.txt')\n",
    "    s = f.readline()\n",
    "    i = int(s.strip())\n",
    "except OSError as err:\n",
    "    print(\"OS error:\", err)\n",
    "except ValueError:\n",
    "    print(\"Could not convert data to an integer.\")\n",
    "except Exception as err:\n",
    "    print(f\"Unexpected {err=}, {type(err)=}\")\n",
    "    raise\n",
    "''''"
   ]
  },
  {
   "cell_type": "code",
   "execution_count": null,
   "id": "612b0ac4",
   "metadata": {},
   "outputs": [],
   "source": [
    "#Q3. Which Python statements are used to catch and handle exceptions? Explain with an example.\n",
    "\n",
    "#A. The \"try\" and \"except\" block in Python is used to catch and handle exceptions. \n",
    "#.  Python executes code following the try statement as a “normal” part of the program. \n",
    "#.  The code that follows the except statement is the program's response to any exceptions in the preceding try clause.\n",
    "\n",
    "#.  Example:\n",
    "''''\n",
    "try:\n",
    "    numerator = 10\n",
    "    denominator = 0\n",
    "\n",
    "    result = numerator/denominator\n",
    "\n",
    "    print(result)\n",
    "except:\n",
    "    print(\"Error: Denominator cannot be 0.\")\n",
    "\n",
    "# Output: Error: Denominator cannot be 0. \n",
    "\n",
    "''''"
   ]
  },
  {
   "cell_type": "code",
   "execution_count": null,
   "id": "7b646505",
   "metadata": {},
   "outputs": [],
   "source": [
    "#Q4. Explain with an example:\n",
    "\n",
    "#a.  try and else: We can use the else keyword to define a block of code to be executed if no errors were raised.\n",
    "\n",
    "#. Example:\n",
    "''''\n",
    "try:\n",
    "  print(\"Hello\")\n",
    "except:\n",
    "  print(\"Something went wrong\")\n",
    "else:\n",
    "  print(\"Nothing went wrong\")\n",
    "''''\n"
   ]
  },
  {
   "cell_type": "code",
   "execution_count": null,
   "id": "15423473",
   "metadata": {},
   "outputs": [],
   "source": [
    "#b.  finally: The finally block will always be executed, no matter if the try block raises an error or not.\n",
    "\n",
    "#. Example:\n",
    "''''\n",
    "try:\n",
    "  x > 3\n",
    "except:\n",
    "  print(\"Something went wrong\")\n",
    "else:\n",
    "  print(\"Nothing went wrong\")\n",
    "finally:\n",
    "  print(\"The try...except block is finished\")\n",
    "''''\n"
   ]
  },
  {
   "cell_type": "code",
   "execution_count": null,
   "id": "e87236bb",
   "metadata": {},
   "outputs": [],
   "source": [
    "#c.  raise: raise Keyword is used to raise exceptions or errors. \n",
    "#.          The raise keyword raises an error and stops the control flow of the program.\n",
    "\n",
    "#. Example:\n",
    "''''\n",
    "raise  {name_of_ the_ exception_class}\n",
    "''''"
   ]
  },
  {
   "cell_type": "code",
   "execution_count": null,
   "id": "b87aa73f",
   "metadata": {},
   "outputs": [],
   "source": [
    "#Q5. What are Custom Exceptions in python? Why do we need Custom Exceptions? Explain with an example.\n",
    "\n",
    "#A. Sometimes based on project requirement, a programmer needs to create his own exceptions and raise explicitly for corresponding scenarios. \n",
    "#.  Such types of exceptions are called customized Exceptions or Programmatic Exceptions. \n",
    "#.  We can raise a custom exception by using the keyword 'raise'.\n",
    "\n",
    "''''\n",
    "class CustomError(Exception):\n",
    "    \n",
    "    pass\n",
    "\n",
    "try:\n",
    "   \n",
    "except CustomError:\n",
    "''''    "
   ]
  },
  {
   "cell_type": "code",
   "execution_count": 1,
   "id": "f950e3f9",
   "metadata": {},
   "outputs": [
    {
     "name": "stdout",
     "output_type": "stream",
     "text": [
      "This is my custom exception\n"
     ]
    }
   ],
   "source": [
    "#Q6. Create a custom exception class. Use this class to handle an exception.\n",
    "\n",
    "#A.\n",
    "\n",
    "class CustomException(Exception):\n",
    "    \"\"\" my custom exception class \"\"\"\n",
    "\n",
    "\n",
    "try:\n",
    "    raise CustomException('This is my custom exception')\n",
    "except CustomException as ex:\n",
    "    print(ex)\n"
   ]
  }
 ],
 "metadata": {
  "kernelspec": {
   "display_name": "Python 3 (ipykernel)",
   "language": "python",
   "name": "python3"
  },
  "language_info": {
   "codemirror_mode": {
    "name": "ipython",
    "version": 3
   },
   "file_extension": ".py",
   "mimetype": "text/x-python",
   "name": "python",
   "nbconvert_exporter": "python",
   "pygments_lexer": "ipython3",
   "version": "3.10.9"
  }
 },
 "nbformat": 4,
 "nbformat_minor": 5
}
